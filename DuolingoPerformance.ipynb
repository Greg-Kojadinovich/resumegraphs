{
 "cells": [
  {
   "cell_type": "markdown",
   "id": "3325299d",
   "metadata": {},
   "source": [
    "## Language Learning \n",
    "\n",
    "### I love to travel and have always met kind, welcoming people anywhere I have gone. When visiting somewhere new, I will always try all the local food, visit the city's art museum, and try to learn as much of the local language as possible before going. \n",
    "\n",
    "### A twenty-year goal of mine is to be able to read & write the popular spoken languages. \n",
    "\n",
    "### This notebook uses [this unofficial Duolingo API](https://github.com/Greg-Kojadinovich/Duolingo) to produce these charts of my performance on Duolingo's app. \n",
    "\n"
   ]
  },
  {
   "cell_type": "code",
   "execution_count": 8,
   "id": "abc150b3-6d7c-4bdb-8ccb-7c0695685bd6",
   "metadata": {},
   "outputs": [],
   "source": [
    "# installing the package \n",
    "#pip install duolingo-api\n"
   ]
  },
  {
   "cell_type": "code",
   "execution_count": 9,
   "id": "19c8af7c-a50f-4acf-8aef-3d661cf20ee3",
   "metadata": {},
   "outputs": [],
   "source": [
    "#import libraries and API keys\n",
    "import duolingo\n",
    "from keys import duokeys\n",
    "\n",
    "import seaborn as sns\n",
    "import pandas as pd\n",
    "import matplotlib as plt\n",
    "import numpy as np\n"
   ]
  },
  {
   "cell_type": "code",
   "execution_count": 10,
   "id": "3e32cd68-1773-48de-9ea5-632f35ba463a",
   "metadata": {},
   "outputs": [],
   "source": [
    "#Create Duolingo Object\n",
    "lingo  = duolingo.Duolingo(duokeys.username, duokeys.password)\n"
   ]
  },
  {
   "cell_type": "code",
   "execution_count": 11,
   "id": "55114f2a",
   "metadata": {},
   "outputs": [
    {
     "name": "stdout",
     "output_type": "stream",
     "text": [
      "I am currently learning: ['Greek', 'Italian', 'Spanish', 'Chinese', 'Russian', 'Norwegian (Bokmål)', 'Polish', 'French', 'German', 'Danish', 'Hindi', 'Japanese', 'Hebrew', 'Korean', 'Swedish', 'Arabic', 'Ukrainian']\n"
     ]
    }
   ],
   "source": [
    "print('I am currently learning: {}'.format(lingo.get_languages(abbreviations=False)))\n",
    "\n",
    "langs = lingo.get_languages(abbreviations=False)\n",
    "\n",
    "skills = []\n",
    "points = []\n",
    "\n",
    "for lang in langs:\n",
    "    skills.append(lingo.get_language_details(lang)['level'])\n",
    "    points.append(lingo.get_language_details(lang)['points'])\n",
    "    \n",
    "    "
   ]
  },
  {
   "cell_type": "code",
   "execution_count": 12,
   "id": "28f955d8",
   "metadata": {},
   "outputs": [
    {
     "name": "stdout",
     "output_type": "stream",
     "text": [
      "A dataframe of my current points and skill level for each language.\n"
     ]
    },
    {
     "data": {
      "text/html": [
       "<div>\n",
       "<style scoped>\n",
       "    .dataframe tbody tr th:only-of-type {\n",
       "        vertical-align: middle;\n",
       "    }\n",
       "\n",
       "    .dataframe tbody tr th {\n",
       "        vertical-align: top;\n",
       "    }\n",
       "\n",
       "    .dataframe thead th {\n",
       "        text-align: right;\n",
       "    }\n",
       "</style>\n",
       "<table border=\"1\" class=\"dataframe\">\n",
       "  <thead>\n",
       "    <tr style=\"text-align: right;\">\n",
       "      <th></th>\n",
       "      <th>Language</th>\n",
       "      <th>Duolingo Skill Level</th>\n",
       "      <th>Points</th>\n",
       "    </tr>\n",
       "  </thead>\n",
       "  <tbody>\n",
       "    <tr>\n",
       "      <th>0</th>\n",
       "      <td>Greek</td>\n",
       "      <td>4</td>\n",
       "      <td>209</td>\n",
       "    </tr>\n",
       "    <tr>\n",
       "      <th>1</th>\n",
       "      <td>Italian</td>\n",
       "      <td>15</td>\n",
       "      <td>7789</td>\n",
       "    </tr>\n",
       "    <tr>\n",
       "      <th>2</th>\n",
       "      <td>Spanish</td>\n",
       "      <td>14</td>\n",
       "      <td>7358</td>\n",
       "    </tr>\n",
       "    <tr>\n",
       "      <th>3</th>\n",
       "      <td>Chinese</td>\n",
       "      <td>7</td>\n",
       "      <td>943</td>\n",
       "    </tr>\n",
       "    <tr>\n",
       "      <th>4</th>\n",
       "      <td>Russian</td>\n",
       "      <td>8</td>\n",
       "      <td>1632</td>\n",
       "    </tr>\n",
       "    <tr>\n",
       "      <th>5</th>\n",
       "      <td>Norwegian (Bokmål)</td>\n",
       "      <td>5</td>\n",
       "      <td>421</td>\n",
       "    </tr>\n",
       "    <tr>\n",
       "      <th>6</th>\n",
       "      <td>Polish</td>\n",
       "      <td>9</td>\n",
       "      <td>1710</td>\n",
       "    </tr>\n",
       "    <tr>\n",
       "      <th>7</th>\n",
       "      <td>French</td>\n",
       "      <td>19</td>\n",
       "      <td>14023</td>\n",
       "    </tr>\n",
       "    <tr>\n",
       "      <th>8</th>\n",
       "      <td>German</td>\n",
       "      <td>10</td>\n",
       "      <td>2588</td>\n",
       "    </tr>\n",
       "    <tr>\n",
       "      <th>9</th>\n",
       "      <td>Danish</td>\n",
       "      <td>1</td>\n",
       "      <td>28</td>\n",
       "    </tr>\n",
       "    <tr>\n",
       "      <th>10</th>\n",
       "      <td>Hindi</td>\n",
       "      <td>1</td>\n",
       "      <td>0</td>\n",
       "    </tr>\n",
       "    <tr>\n",
       "      <th>11</th>\n",
       "      <td>Japanese</td>\n",
       "      <td>6</td>\n",
       "      <td>729</td>\n",
       "    </tr>\n",
       "    <tr>\n",
       "      <th>12</th>\n",
       "      <td>Hebrew</td>\n",
       "      <td>1</td>\n",
       "      <td>13</td>\n",
       "    </tr>\n",
       "    <tr>\n",
       "      <th>13</th>\n",
       "      <td>Korean</td>\n",
       "      <td>4</td>\n",
       "      <td>219</td>\n",
       "    </tr>\n",
       "    <tr>\n",
       "      <th>14</th>\n",
       "      <td>Swedish</td>\n",
       "      <td>3</td>\n",
       "      <td>132</td>\n",
       "    </tr>\n",
       "    <tr>\n",
       "      <th>15</th>\n",
       "      <td>Arabic</td>\n",
       "      <td>6</td>\n",
       "      <td>531</td>\n",
       "    </tr>\n",
       "    <tr>\n",
       "      <th>16</th>\n",
       "      <td>Ukrainian</td>\n",
       "      <td>7</td>\n",
       "      <td>1048</td>\n",
       "    </tr>\n",
       "  </tbody>\n",
       "</table>\n",
       "</div>"
      ],
      "text/plain": [
       "              Language  Duolingo Skill Level  Points\n",
       "0                Greek                     4     209\n",
       "1              Italian                    15    7789\n",
       "2              Spanish                    14    7358\n",
       "3              Chinese                     7     943\n",
       "4              Russian                     8    1632\n",
       "5   Norwegian (Bokmål)                     5     421\n",
       "6               Polish                     9    1710\n",
       "7               French                    19   14023\n",
       "8               German                    10    2588\n",
       "9               Danish                     1      28\n",
       "10               Hindi                     1       0\n",
       "11            Japanese                     6     729\n",
       "12              Hebrew                     1      13\n",
       "13              Korean                     4     219\n",
       "14             Swedish                     3     132\n",
       "15              Arabic                     6     531\n",
       "16           Ukrainian                     7    1048"
      ]
     },
     "execution_count": 12,
     "metadata": {},
     "output_type": "execute_result"
    }
   ],
   "source": [
    "lang_review = pd.DataFrame({'Language': langs, 'Duolingo Skill Level': skills, 'Points': points} )\n",
    "\n",
    "print('A dataframe of my current points and skill level for each language.')\n",
    "lang_review"
   ]
  },
  {
   "cell_type": "code",
   "execution_count": 13,
   "id": "f27db3b6",
   "metadata": {},
   "outputs": [],
   "source": [
    "#top ten for graphs\n",
    "topten_lang_df = lang_review.sort_values('Points', ascending= False).head(10)"
   ]
  },
  {
   "cell_type": "code",
   "execution_count": 15,
   "id": "e9c70ac0",
   "metadata": {},
   "outputs": [
    {
     "data": {
      "text/plain": [
       "Text(0.5, 1.0, 'Languages by Duolingo Skill Level')"
      ]
     },
     "execution_count": 15,
     "metadata": {},
     "output_type": "execute_result"
    },
    {
     "data": {
      "image/png": "[encoded data removed]",
      "text/plain": [
       "<Figure size 720x360 with 1 Axes>"
      ]
     },
     "metadata": {},
     "output_type": "display_data"
    }
   ],
   "source": [
    "fig = sns.barplot(data=topten_lang_df, x='Language', y='Duolingo Skill Level')\n",
    "sns.set(rc = {'figure.figsize':(10,5)})\n",
    "fig.set_autoscale_on\n",
    "fig.set_title('Languages by Duolingo Skill Level')"
   ]
  },
  {
   "cell_type": "code",
   "execution_count": 16,
   "id": "722d9086",
   "metadata": {},
   "outputs": [
    {
     "data": {
      "text/plain": [
       "Text(0.5, 1.0, 'Languages Versus Points Earned')"
      ]
     },
     "execution_count": 16,
     "metadata": {},
     "output_type": "execute_result"
    },
    {
     "data": {
      "image/png": "[encoded data removed]",
      "text/plain": [
       "<Figure size 720x360 with 1 Axes>"
      ]
     },
     "metadata": {},
     "output_type": "display_data"
    }
   ],
   "source": [
    "fig = sns.barplot(data=topten_lang_df, x='Language', y='Points')\n",
    "sns.set(rc = {'figure.figsize':(10,5)})\n",
    "fig.set_autoscale_on\n",
    "fig.set_title('Languages Versus Points Earned')"
   ]
  },
  {
   "cell_type": "code",
   "execution_count": 17,
   "id": "f3411dca-a0a9-4cf3-a698-0989e7cae1ce",
   "metadata": {},
   "outputs": [
    {
     "name": "stdout",
     "output_type": "stream",
     "text": [
      "I have a daily goal of 10 points per day, I scored 20 points today.\n",
      "My current streak has lasted 207 days in a row!\n",
      "I am currently learning French and have 14,023 total points, my skill level is 19.\n",
      "I still need to complete a lesson. Feel free to remind me!\n"
     ]
    }
   ],
   "source": [
    "#print(lingo.get_streak_info())\n",
    "\n",
    "mystreak = lingo.get_streak_info()\n",
    "dailyxp = lingo.get_daily_xp_progress()\n",
    "lang_details = lingo.get_language_details('French')\n",
    "\n",
    "print('I have a daily goal of {} points per day, I scored {} points today.'.format(mystreak['daily_goal'],dailyxp['xp_today'] ))\n",
    "print('My current streak has lasted {} days in a row!'.format(mystreak['site_streak']))\n",
    "print('I am currently learning {} and have {:,} total points, my skill level is {}.'.format(lang_details['language_string'], lang_details['points'], lang_details['level']))\n",
    "\n",
    "if mystreak['streak_extended_today'] == True:\n",
    "    print('I extended my streak already today!')\n",
    "else:\n",
    "    print('I still need to complete a lesson. Feel free to remind me!')"
   ]
  },
  {
   "cell_type": "code",
   "execution_count": 19,
   "id": "738b255b-0710-4900-8d1c-537d47058f9f",
   "metadata": {},
   "outputs": [
    {
     "name": "stdout",
     "output_type": "stream",
     "text": [
      "Here are some of the topics I have learned in French :\n",
      "['People 2', 'People', 'In Town', 'Paris', 'Past Tense 1', 'School 2', 'City 4', 'At Work 2', 'Decorating', 'Dream Trip', 'At Work', 'Breakfast', 'Routine', 'Weather 2', 'Pres Tense 2', 'At Home', 'School', 'Money', 'Health', 'Technology', 'Food 2', 'Leisure 2', 'Hotel 2', 'At Home 4', 'Leisure 4', 'Reflexives 2', 'Going Out', 'At Work 5', 'Basics 2', 'Family 2', 'Travel 3', 'Manners', 'City 3', 'Life', 'Past Tense 2', 'Food', 'Sensations', 'Activities', 'Reflexives', 'Shopping 4', 'Family 3', 'At Work 4', 'City', 'Nightmare', 'Activities 2', 'Travel 5', 'Family 4', 'Leisure', 'Travel', 'Nature', 'Basics 1', 'Memories', 'On Sale', 'Travel 6', 'Emergency', 'Sports', 'Future Tense', 'Vacation', 'Shopping 3', 'Hotel', 'Articles', 'Junk', 'Shopping', 'Weekend', 'Arts', 'Family 5', 'Commands', 'School 3', 'At Work 3', 'Pres Tense 1', 'Bad Day', 'Groceries', 'At Home 2', 'Shopping 2', 'Greetings', 'Restaurant', 'Transit', 'Weather', 'Grooming', 'Travel 4', 'Past Tense 3', 'Cooking', 'Leisure 3', 'Family', 'People 4', 'Friends', 'Routine 2', 'Education', 'Agreement', 'Past Tense 4', 'Housing', 'Routine 3', 'Travel 2', 'Opinion', 'Career', 'Friends 2', 'Habits', 'City 2', 'Food 3', 'People 3', 'To Know', 'People 5', 'Doctor', 'At Home 3']\n"
     ]
    }
   ],
   "source": [
    "print('Here are some of the topics I have learned in French :')\n",
    "\n",
    "print(lingo.get_known_topics('fr'))"
   ]
  }
 ],
 "metadata": {
  "kernelspec": {
   "display_name": "Python 3 (ipykernel)",
   "language": "python",
   "name": "python3"
  },
  "language_info": {
   "codemirror_mode": {
    "name": "ipython",
    "version": 3
   },
   "file_extension": ".py",
   "mimetype": "text/x-python",
   "name": "python",
   "nbconvert_exporter": "python",
   "pygments_lexer": "ipython3",
   "version": "3.8.13"
  }
 },
 "nbformat": 4,
 "nbformat_minor": 5
}
