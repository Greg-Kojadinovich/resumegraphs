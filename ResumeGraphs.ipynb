{
 "cells": [
  {
   "cell_type": "markdown",
   "metadata": {},
   "source": [
    "---\n",
    "## **Greg Kojadinovich II**\n",
    "\n",
    "- email: gregory.kojadinovich@gmail.com\n",
    "- location: Pittsburgh, PA \n",
    "- [Github](https://github.com/Greg-Kojadinovich)\n",
    "\n",
    "\n",
    "### Hello, I'm Greg. It's nice to meet you! \n",
    "\n",
    "### Welcome to the notebook I created to explain my recent studies and the projects I have been working on. I have really enjoyed learning software engineering and machine learning and I am excited to see what all I can build with these new skills. \n",
    "\n",
    "<img src=\"me.jpg\" alt=\"Greg\" class=\"img-responsive\" style=\"width:200px;\"/>\n",
    "\n",
    "### My experience has been mostly spent in Project Management. I have more than three years experience managing capital projects and assets.\n",
    "\n",
    "### I hold a B.S. in Petroleum Engineering and a M.S. in Energy Engineering from Penn State. \n",
    "---\n",
    "### "
   ]
  },
  {
   "cell_type": "markdown",
   "metadata": {},
   "source": [
    "## **Programming Languages**\n"
   ]
  },
  {
   "cell_type": "code",
   "execution_count": 2,
   "metadata": {},
   "outputs": [
    {
     "data": {
      "text/plain": [
       "Text(0, 0.5, 'Comfort Level')"
      ]
     },
     "execution_count": 2,
     "metadata": {},
     "output_type": "execute_result"
    },
    {
     "data": {
      "image/png": "[encoded data removed]",
      "text/plain": [
       "<Figure size 1440x360 with 1 Axes>"
      ]
     },
     "metadata": {},
     "output_type": "display_data"
    }
   ],
   "source": [
    "import pandas as pd\n",
    "import numpy as np\n",
    "import seaborn as sns\n",
    "import matplotlib.pyplot as plt\n",
    "import plotly.express as px\n",
    "\n",
    "\n",
    "sns.set_theme(style=\"white\", context=\"talk\")\n",
    "\n",
    "languages = ['Python', 'SQL','Matlab', 'Octave', 'Linux','Java','Swift','HTML', 'CSS',  'React', 'GO', 'Pine', 'Ruby', 'Solidity', 'R']\n",
    "proficiency = np.array([10,9.7,8.2,7.5,6.7,6,5.7,5.5,5.3,5,3,3,3,3,3]) #how comfortable I am coding in each language \n",
    "\n",
    "lang_df = pd.DataFrame({'Language':languages, 'Proficiency': proficiency})\n",
    "\n",
    "fig = sns.barplot(x=languages, y=proficiency)\n",
    "sns.set(rc = {'figure.figsize':(20,5)})\n",
    "fig.set_autoscale_on\n",
    "fig.set_ylabel('Comfort Level')\n"
   ]
  },
  {
   "cell_type": "markdown",
   "metadata": {},
   "source": [
    "## **Certificates**"
   ]
  },
  {
   "cell_type": "code",
   "execution_count": 3,
   "metadata": {},
   "outputs": [
    {
     "data": {
      "text/html": [
       "<div>\n",
       "<style scoped>\n",
       "    .dataframe tbody tr th:only-of-type {\n",
       "        vertical-align: middle;\n",
       "    }\n",
       "\n",
       "    .dataframe tbody tr th {\n",
       "        vertical-align: top;\n",
       "    }\n",
       "\n",
       "    .dataframe thead th {\n",
       "        text-align: right;\n",
       "    }\n",
       "</style>\n",
       "<table border=\"1\" class=\"dataframe\">\n",
       "  <thead>\n",
       "    <tr style=\"text-align: right;\">\n",
       "      <th></th>\n",
       "      <th>Certificates</th>\n",
       "      <th>% Overall Time Spent</th>\n",
       "    </tr>\n",
       "  </thead>\n",
       "  <tbody>\n",
       "    <tr>\n",
       "      <th>0</th>\n",
       "      <td>IBM Data Science Professional Certificate</td>\n",
       "      <td>50</td>\n",
       "    </tr>\n",
       "    <tr>\n",
       "      <th>1</th>\n",
       "      <td>Standford Machine Learning Certificate</td>\n",
       "      <td>35</td>\n",
       "    </tr>\n",
       "    <tr>\n",
       "      <th>2</th>\n",
       "      <td>Advanced SQL</td>\n",
       "      <td>5</td>\n",
       "    </tr>\n",
       "    <tr>\n",
       "      <th>3</th>\n",
       "      <td>MySQL</td>\n",
       "      <td>5</td>\n",
       "    </tr>\n",
       "    <tr>\n",
       "      <th>4</th>\n",
       "      <td>SQL: Data Reporting and Analysis</td>\n",
       "      <td>5</td>\n",
       "    </tr>\n",
       "  </tbody>\n",
       "</table>\n",
       "</div>"
      ],
      "text/plain": [
       "                                Certificates  % Overall Time Spent\n",
       "0  IBM Data Science Professional Certificate                    50\n",
       "1     Standford Machine Learning Certificate                    35\n",
       "2                               Advanced SQL                     5\n",
       "3                                      MySQL                     5\n",
       "4           SQL: Data Reporting and Analysis                     5"
      ]
     },
     "execution_count": 3,
     "metadata": {},
     "output_type": "execute_result"
    }
   ],
   "source": [
    "list_of_all_certificates = ['IBM Data Science Professional Certificate','Standford Machine Learning Certificate', \\\n",
    "                            'Advanced SQL', 'MySQL', 'SQL: Data Reporting and Analysis'] \n",
    "cert_percentages = np.array([50,35,5,5,5])\n",
    "certs = pd.DataFrame({'Certificates' : list_of_all_certificates, '% Overall Time Spent':cert_percentages})\n",
    "certs.head()"
   ]
  },
  {
   "cell_type": "markdown",
   "metadata": {},
   "source": [
    "### Here is a break down of some of the certificates I have completed and how much of my time has been allocated to completing them. "
   ]
  },
  {
   "cell_type": "code",
   "execution_count": 4,
   "metadata": {},
   "outputs": [
    {
     "data": {
      "application/vnd.plotly.v1+json": {
       "config": {
        "plotlyServerURL": "https://plot.ly"
       },
       "data": [
        {
         "domain": {
          "x": [
           0,
           1
          ],
          "y": [
           0,
           1
          ]
         },
         "hovertemplate": "Certificates=%{label}<br>value=%{value}<extra></extra>",
         "labels": [
          "IBM Data Science Professional Certificate",
          "Standford Machine Learning Certificate",
          "Advanced SQL",
          "MySQL",
          "SQL: Data Reporting and Analysis"
         ],
         "legendgroup": "",
         "name": "",
         "showlegend": true,
         "type": "pie",
         "values": [
          50,
          35,
          5,
          5,
          5
         ]
        }
       ],
       "layout": {
        "legend": {
         "tracegroupgap": 0
        },
        "template": {
         "data": {
          "bar": [
           {
            "error_x": {
             "color": "#2a3f5f"
            },
            "error_y": {
             "color": "#2a3f5f"
            },
            "marker": {
             "line": {
              "color": "#E5ECF6",
              "width": 0.5
             },
             "pattern": {
              "fillmode": "overlay",
              "size": 10,
              "solidity": 0.2
             }
            },
            "type": "bar"
           }
          ],
          "barpolar": [
           {
            "marker": {
             "line": {
              "color": "#E5ECF6",
              "width": 0.5
             },
             "pattern": {
              "fillmode": "overlay",
              "size": 10,
              "solidity": 0.2
             }
            },
            "type": "barpolar"
           }
          ],
          "carpet": [
           {
            "aaxis": {
             "endlinecolor": "#2a3f5f",
             "gridcolor": "white",
             "linecolor": "white",
             "minorgridcolor": "white",
             "startlinecolor": "#2a3f5f"
            },
            "baxis": {
             "endlinecolor": "#2a3f5f",
             "gridcolor": "white",
             "linecolor": "white",
             "minorgridcolor": "white",
             "startlinecolor": "#2a3f5f"
            },
            "type": "carpet"
           }
          ],
          "choropleth": [
           {
            "colorbar": {
             "outlinewidth": 0,
             "ticks": ""
            },
            "type": "choropleth"
           }
          ],
          "contour": [
           {
            "colorbar": {
             "outlinewidth": 0,
             "ticks": ""
            },
            "colorscale": [
             [
              0,
              "#0d0887"
             ],
             [
              0.1111111111111111,
              "#46039f"
             ],
             [
              0.2222222222222222,
              "#7201a8"
             ],
             [
              0.3333333333333333,
              "#9c179e"
             ],
             [
              0.4444444444444444,
              "#bd3786"
             ],
             [
              0.5555555555555556,
              "#d8576b"
             ],
             [
              0.6666666666666666,
              "#ed7953"
             ],
             [
              0.7777777777777778,
              "#fb9f3a"
             ],
             [
              0.8888888888888888,
              "#fdca26"
             ],
             [
              1,
              "#f0f921"
             ]
            ],
            "type": "contour"
           }
          ],
          "contourcarpet": [
           {
            "colorbar": {
             "outlinewidth": 0,
             "ticks": ""
            },
            "type": "contourcarpet"
           }
          ],
          "heatmap": [
           {
            "colorbar": {
             "outlinewidth": 0,
             "ticks": ""
            },
            "colorscale": [
             [
              0,
              "#0d0887"
             ],
             [
              0.1111111111111111,
              "#46039f"
             ],
             [
              0.2222222222222222,
              "#7201a8"
             ],
             [
              0.3333333333333333,
              "#9c179e"
             ],
             [
              0.4444444444444444,
              "#bd3786"
             ],
             [
              0.5555555555555556,
              "#d8576b"
             ],
             [
              0.6666666666666666,
              "#ed7953"
             ],
             [
              0.7777777777777778,
              "#fb9f3a"
             ],
             [
              0.8888888888888888,
              "#fdca26"
             ],
             [
              1,
              "#f0f921"
             ]
            ],
            "type": "heatmap"
           }
          ],
          "heatmapgl": [
           {
            "colorbar": {
             "outlinewidth": 0,
             "ticks": ""
            },
            "colorscale": [
             [
              0,
              "#0d0887"
             ],
             [
              0.1111111111111111,
              "#46039f"
             ],
             [
              0.2222222222222222,
              "#7201a8"
             ],
             [
              0.3333333333333333,
              "#9c179e"
             ],
             [
              0.4444444444444444,
              "#bd3786"
             ],
             [
              0.5555555555555556,
              "#d8576b"
             ],
             [
              0.6666666666666666,
              "#ed7953"
             ],
             [
              0.7777777777777778,
              "#fb9f3a"
             ],
             [
              0.8888888888888888,
              "#fdca26"
             ],
             [
              1,
              "#f0f921"
             ]
            ],
            "type": "heatmapgl"
           }
          ],
          "histogram": [
           {
            "marker": {
             "pattern": {
              "fillmode": "overlay",
              "size": 10,
              "solidity": 0.2
             }
            },
            "type": "histogram"
           }
          ],
          "histogram2d": [
           {
            "colorbar": {
             "outlinewidth": 0,
             "ticks": ""
            },
            "colorscale": [
             [
              0,
              "#0d0887"
             ],
             [
              0.1111111111111111,
              "#46039f"
             ],
             [
              0.2222222222222222,
              "#7201a8"
             ],
             [
              0.3333333333333333,
              "#9c179e"
             ],
             [
              0.4444444444444444,
              "#bd3786"
             ],
             [
              0.5555555555555556,
              "#d8576b"
             ],
             [
              0.6666666666666666,
              "#ed7953"
             ],
             [
              0.7777777777777778,
              "#fb9f3a"
             ],
             [
              0.8888888888888888,
              "#fdca26"
             ],
             [
              1,
              "#f0f921"
             ]
            ],
            "type": "histogram2d"
           }
          ],
          "histogram2dcontour": [
           {
            "colorbar": {
             "outlinewidth": 0,
             "ticks": ""
            },
            "colorscale": [
             [
              0,
              "#0d0887"
             ],
             [
              0.1111111111111111,
              "#46039f"
             ],
             [
              0.2222222222222222,
              "#7201a8"
             ],
             [
              0.3333333333333333,
              "#9c179e"
             ],
             [
              0.4444444444444444,
              "#bd3786"
             ],
             [
              0.5555555555555556,
              "#d8576b"
             ],
             [
              0.6666666666666666,
              "#ed7953"
             ],
             [
              0.7777777777777778,
              "#fb9f3a"
             ],
             [
              0.8888888888888888,
              "#fdca26"
             ],
             [
              1,
              "#f0f921"
             ]
            ],
            "type": "histogram2dcontour"
           }
          ],
          "mesh3d": [
           {
            "colorbar": {
             "outlinewidth": 0,
             "ticks": ""
            },
            "type": "mesh3d"
           }
          ],
          "parcoords": [
           {
            "line": {
             "colorbar": {
              "outlinewidth": 0,
              "ticks": ""
             }
            },
            "type": "parcoords"
           }
          ],
          "pie": [
           {
            "automargin": true,
            "type": "pie"
           }
          ],
          "scatter": [
           {
            "marker": {
             "colorbar": {
              "outlinewidth": 0,
              "ticks": ""
             }
            },
            "type": "scatter"
           }
          ],
          "scatter3d": [
           {
            "line": {
             "colorbar": {
              "outlinewidth": 0,
              "ticks": ""
             }
            },
            "marker": {
             "colorbar": {
              "outlinewidth": 0,
              "ticks": ""
             }
            },
            "type": "scatter3d"
           }
          ],
          "scattercarpet": [
           {
            "marker": {
             "colorbar": {
              "outlinewidth": 0,
              "ticks": ""
             }
            },
            "type": "scattercarpet"
           }
          ],
          "scattergeo": [
           {
            "marker": {
             "colorbar": {
              "outlinewidth": 0,
              "ticks": ""
             }
            },
            "type": "scattergeo"
           }
          ],
          "scattergl": [
           {
            "marker": {
             "colorbar": {
              "outlinewidth": 0,
              "ticks": ""
             }
            },
            "type": "scattergl"
           }
          ],
          "scattermapbox": [
           {
            "marker": {
             "colorbar": {
              "outlinewidth": 0,
              "ticks": ""
             }
            },
            "type": "scattermapbox"
           }
          ],
          "scatterpolar": [
           {
            "marker": {
             "colorbar": {
              "outlinewidth": 0,
              "ticks": ""
             }
            },
            "type": "scatterpolar"
           }
          ],
          "scatterpolargl": [
           {
            "marker": {
             "colorbar": {
              "outlinewidth": 0,
              "ticks": ""
             }
            },
            "type": "scatterpolargl"
           }
          ],
          "scatterternary": [
           {
            "marker": {
             "colorbar": {
              "outlinewidth": 0,
              "ticks": ""
             }
            },
            "type": "scatterternary"
           }
          ],
          "surface": [
           {
            "colorbar": {
             "outlinewidth": 0,
             "ticks": ""
            },
            "colorscale": [
             [
              0,
              "#0d0887"
             ],
             [
              0.1111111111111111,
              "#46039f"
             ],
             [
              0.2222222222222222,
              "#7201a8"
             ],
             [
              0.3333333333333333,
              "#9c179e"
             ],
             [
              0.4444444444444444,
              "#bd3786"
             ],
             [
              0.5555555555555556,
              "#d8576b"
             ],
             [
              0.6666666666666666,
              "#ed7953"
             ],
             [
              0.7777777777777778,
              "#fb9f3a"
             ],
             [
              0.8888888888888888,
              "#fdca26"
             ],
             [
              1,
              "#f0f921"
             ]
            ],
            "type": "surface"
           }
          ],
          "table": [
           {
            "cells": {
             "fill": {
              "color": "#EBF0F8"
             },
             "line": {
              "color": "white"
             }
            },
            "header": {
             "fill": {
              "color": "#C8D4E3"
             },
             "line": {
              "color": "white"
             }
            },
            "type": "table"
           }
          ]
         },
         "layout": {
          "annotationdefaults": {
           "arrowcolor": "#2a3f5f",
           "arrowhead": 0,
           "arrowwidth": 1
          },
          "autotypenumbers": "strict",
          "coloraxis": {
           "colorbar": {
            "outlinewidth": 0,
            "ticks": ""
           }
          },
          "colorscale": {
           "diverging": [
            [
             0,
             "#8e0152"
            ],
            [
             0.1,
             "#c51b7d"
            ],
            [
             0.2,
             "#de77ae"
            ],
            [
             0.3,
             "#f1b6da"
            ],
            [
             0.4,
             "#fde0ef"
            ],
            [
             0.5,
             "#f7f7f7"
            ],
            [
             0.6,
             "#e6f5d0"
            ],
            [
             0.7,
             "#b8e186"
            ],
            [
             0.8,
             "#7fbc41"
            ],
            [
             0.9,
             "#4d9221"
            ],
            [
             1,
             "#276419"
            ]
           ],
           "sequential": [
            [
             0,
             "#0d0887"
            ],
            [
             0.1111111111111111,
             "#46039f"
            ],
            [
             0.2222222222222222,
             "#7201a8"
            ],
            [
             0.3333333333333333,
             "#9c179e"
            ],
            [
             0.4444444444444444,
             "#bd3786"
            ],
            [
             0.5555555555555556,
             "#d8576b"
            ],
            [
             0.6666666666666666,
             "#ed7953"
            ],
            [
             0.7777777777777778,
             "#fb9f3a"
            ],
            [
             0.8888888888888888,
             "#fdca26"
            ],
            [
             1,
             "#f0f921"
            ]
           ],
           "sequentialminus": [
            [
             0,
             "#0d0887"
            ],
            [
             0.1111111111111111,
             "#46039f"
            ],
            [
             0.2222222222222222,
             "#7201a8"
            ],
            [
             0.3333333333333333,
             "#9c179e"
            ],
            [
             0.4444444444444444,
             "#bd3786"
            ],
            [
             0.5555555555555556,
             "#d8576b"
            ],
            [
             0.6666666666666666,
             "#ed7953"
            ],
            [
             0.7777777777777778,
             "#fb9f3a"
            ],
            [
             0.8888888888888888,
             "#fdca26"
            ],
            [
             1,
             "#f0f921"
            ]
           ]
          },
          "colorway": [
           "#636efa",
           "#EF553B",
           "#00cc96",
           "#ab63fa",
           "#FFA15A",
           "#19d3f3",
           "#FF6692",
           "#B6E880",
           "#FF97FF",
           "#FECB52"
          ],
          "font": {
           "color": "#2a3f5f"
          },
          "geo": {
           "bgcolor": "white",
           "lakecolor": "white",
           "landcolor": "#E5ECF6",
           "showlakes": true,
           "showland": true,
           "subunitcolor": "white"
          },
          "hoverlabel": {
           "align": "left"
          },
          "hovermode": "closest",
          "mapbox": {
           "style": "light"
          },
          "paper_bgcolor": "white",
          "plot_bgcolor": "#E5ECF6",
          "polar": {
           "angularaxis": {
            "gridcolor": "white",
            "linecolor": "white",
            "ticks": ""
           },
           "bgcolor": "#E5ECF6",
           "radialaxis": {
            "gridcolor": "white",
            "linecolor": "white",
            "ticks": ""
           }
          },
          "scene": {
           "xaxis": {
            "backgroundcolor": "#E5ECF6",
            "gridcolor": "white",
            "gridwidth": 2,
            "linecolor": "white",
            "showbackground": true,
            "ticks": "",
            "zerolinecolor": "white"
           },
           "yaxis": {
            "backgroundcolor": "#E5ECF6",
            "gridcolor": "white",
            "gridwidth": 2,
            "linecolor": "white",
            "showbackground": true,
            "ticks": "",
            "zerolinecolor": "white"
           },
           "zaxis": {
            "backgroundcolor": "#E5ECF6",
            "gridcolor": "white",
            "gridwidth": 2,
            "linecolor": "white",
            "showbackground": true,
            "ticks": "",
            "zerolinecolor": "white"
           }
          },
          "shapedefaults": {
           "line": {
            "color": "#2a3f5f"
           }
          },
          "ternary": {
           "aaxis": {
            "gridcolor": "white",
            "linecolor": "white",
            "ticks": ""
           },
           "baxis": {
            "gridcolor": "white",
            "linecolor": "white",
            "ticks": ""
           },
           "bgcolor": "#E5ECF6",
           "caxis": {
            "gridcolor": "white",
            "linecolor": "white",
            "ticks": ""
           }
          },
          "title": {
           "x": 0.05
          },
          "xaxis": {
           "automargin": true,
           "gridcolor": "white",
           "linecolor": "white",
           "ticks": "",
           "title": {
            "standoff": 15
           },
           "zerolinecolor": "white",
           "zerolinewidth": 2
          },
          "yaxis": {
           "automargin": true,
           "gridcolor": "white",
           "linecolor": "white",
           "ticks": "",
           "title": {
            "standoff": 15
           },
           "zerolinecolor": "white",
           "zerolinewidth": 2
          }
         }
        },
        "title": {
         "text": "Completed Certificates & Time Spent %"
        }
       }
      }
     },
     "metadata": {},
     "output_type": "display_data"
    }
   ],
   "source": [
    "px.pie(data_frame=certs,names='Certificates', values = cert_percentages, title='Completed Certificates & Time Spent %')\n"
   ]
  },
  {
   "cell_type": "markdown",
   "metadata": {},
   "source": [
    "## Learning Enviroments & Top Three Courses \n",
    "\n",
    "| Learning Enviroment  \t| Icon   \t| Courses   \t|\n",
    "|:-:\t|:-:\t|:-:\t|\n",
    "| Coursera  \t| <img src=\"icons/coursera.png\" alt=\"drawing\" style=\"width:200px;\"/>  \t| Stanford Machine Learning <br> IBM Data Science Professional Certificate <br> Machine Learning Engineering for Production (MLOps)  \t|\n",
    "| Duolingo  \t| <img src=\"icons/duolingo.png\" alt=\"drawing\" style=\"width:200px;\"/>  \t| French <br> Italian <br> Spanish \t|\n",
    "| Kaggle  \t| <img src=\"icons/kaggle.png\" alt=\"drawing\" style=\"width:200px;\"/>  \t| Great Barrier Reef <br> March Mania <br> G-Research Crypto Forcasting \t|\n",
    "| LinkedIn Learning  \t| <img src=\"icons/linkedin.png\" alt=\"drawing\" style=\"width:200px;\"/>  \t| Advanced SQL <br> MySQL <br> SQL: Data Reporting and Analysis \t|\n",
    "| Brilliant  \t| <img src=\"icons/brilliant.png\" alt=\"drawing\" style=\"width:200px;\"/>  \t| Gravational Physics <br> Special Relativity <br> Math for Quantitative Finance \t|\n",
    "| Leetcode  \t| <img src=\"icons/leetcode.png\" alt=\"drawing\" style=\"width:200px;\"/>  \t| Dynamic Programming <br>  Data Structures and Algorithms <br> Database MySQL \t|\n",
    "| Buildspace  \t| <img src=\"icons/buildspace.png\" alt=\"drawing\" style=\"width:200px;\"/>  \t| Web3 App with Solidity & Ethereum Smart Contracts <br> Web3 App on Solana with React and Rust <br> DAO with Javascript \t|\n"
   ]
  },
  {
   "cell_type": "markdown",
   "metadata": {},
   "source": [
    "## **Ongoing Certificates**\n",
    "### - DeepLearning.AI: Machine Learning Engineering for Production (MLOps)\n",
    "### - HTB: Linux Fundamentals"
   ]
  },
  {
   "cell_type": "code",
   "execution_count": 6,
   "metadata": {},
   "outputs": [
    {
     "name": "stdout",
     "output_type": "stream",
     "text": [
      "Here are all the different platforms I learn on: ['Coursera', 'Duolingo', 'Kaggle', 'Linkedin Learning', 'Brillant', 'Leetcode', 'Buildspace']\n"
     ]
    },
    {
     "data": {
      "application/javascript": "if (typeof require !== 'undefined')\n    require.config({\n        paths: {\n            jquery: 'https://code.jquery.com/jquery-3.5.1.min',\n            datatables: 'https://cdn.datatables.net/1.11.3/js/jquery.dataTables.min',\n        }\n    });\n",
      "text/plain": [
       "<IPython.core.display.Javascript object>"
      ]
     },
     "metadata": {},
     "output_type": "display_data"
    },
    {
     "data": {
      "text/html": [
       "<div>\n",
       "<style scoped>\n",
       "    .dataframe tbody tr th:only-of-type {\n",
       "        vertical-align: middle;\n",
       "    }\n",
       "\n",
       "    .dataframe tbody tr th {\n",
       "        vertical-align: top;\n",
       "    }\n",
       "\n",
       "    .dataframe thead th {\n",
       "        text-align: right;\n",
       "    }\n",
       "</style>\n",
       "<table border=\"1\" class=\"dataframe\">\n",
       "  <thead>\n",
       "    <tr style=\"text-align: right;\">\n",
       "      <th></th>\n",
       "      <th>Coursera</th>\n",
       "      <th>Duolingo</th>\n",
       "      <th>Kaggle</th>\n",
       "      <th>LinkedIn Learning</th>\n",
       "      <th>Brillant</th>\n",
       "      <th>Leetcode</th>\n",
       "      <th>Buildspace</th>\n",
       "    </tr>\n",
       "  </thead>\n",
       "  <tbody>\n",
       "    <tr>\n",
       "      <th>0</th>\n",
       "      <td>Stanford Machine Learning</td>\n",
       "      <td>French</td>\n",
       "      <td>Great Barrier Reef</td>\n",
       "      <td>Advanced SQL</td>\n",
       "      <td>Gravational Physics</td>\n",
       "      <td>Dynamic Programming</td>\n",
       "      <td>Web3 App with Solidity &amp; Ethereum Smart Contracts</td>\n",
       "    </tr>\n",
       "    <tr>\n",
       "      <th>1</th>\n",
       "      <td>IBM Data Science Professional Certificate</td>\n",
       "      <td>Italian</td>\n",
       "      <td>March Mania</td>\n",
       "      <td>MySQL</td>\n",
       "      <td>Special Relativity</td>\n",
       "      <td>Data Structures and Algorithms</td>\n",
       "      <td>Web3 App on Solana with React and Rust</td>\n",
       "    </tr>\n",
       "    <tr>\n",
       "      <th>2</th>\n",
       "      <td>ML Engineering for Production (MLOps)</td>\n",
       "      <td>Spanish</td>\n",
       "      <td>G-Research Crypto Forcasting</td>\n",
       "      <td>SQL: Data Reporting and Analysis</td>\n",
       "      <td>Math for Quantitative Finance</td>\n",
       "      <td>Database MySQL</td>\n",
       "      <td>DAO with Javascript</td>\n",
       "    </tr>\n",
       "  </tbody>\n",
       "</table>\n",
       "</div>"
      ],
      "text/plain": [
       "                                    Coursera Duolingo  \\\n",
       "0                  Stanford Machine Learning   French   \n",
       "1  IBM Data Science Professional Certificate  Italian   \n",
       "2      ML Engineering for Production (MLOps)  Spanish   \n",
       "\n",
       "                         Kaggle                 LinkedIn Learning  \\\n",
       "0            Great Barrier Reef                      Advanced SQL   \n",
       "1                   March Mania                             MySQL   \n",
       "2  G-Research Crypto Forcasting  SQL: Data Reporting and Analysis   \n",
       "\n",
       "                        Brillant                        Leetcode  \\\n",
       "0            Gravational Physics             Dynamic Programming   \n",
       "1             Special Relativity  Data Structures and Algorithms   \n",
       "2  Math for Quantitative Finance                  Database MySQL   \n",
       "\n",
       "                                          Buildspace  \n",
       "0  Web3 App with Solidity & Ethereum Smart Contracts  \n",
       "1             Web3 App on Solana with React and Rust  \n",
       "2                                DAO with Javascript  "
      ]
     },
     "execution_count": 6,
     "metadata": {},
     "output_type": "execute_result"
    }
   ],
   "source": [
    "envs = ['Coursera', 'Duolingo', 'Kaggle','Linkedin Learning', 'Brillant', 'Leetcode', 'Buildspace']\n",
    "print('Here are all the different platforms I learn on: {}'.format(envs))\n",
    "\n",
    "from itables import show\n",
    "from itables import init_notebook_mode\n",
    "init_notebook_mode()\n",
    "\n",
    "courses = {\n",
    "    'Coursera': ['Stanford Machine Learning', 'IBM Data Science Professional Certificate', 'ML Engineering for Production (MLOps)'],\n",
    "    'Duolingo' : ['French',  'Italian', 'Spanish'],\n",
    "    'Kaggle' : ['Great Barrier Reef', 'March Mania', 'G-Research Crypto Forcasting'],\n",
    "    'LinkedIn Learning' : ['Advanced SQL', 'MySQL', 'SQL: Data Reporting and Analysis'],\n",
    "    'Brillant': ['Gravational Physics', 'Special Relativity', 'Math for Quantitative Finance'],\n",
    "    'Leetcode' : ['Dynamic Programming','Data Structures and Algorithms','Database MySQL'],\n",
    "    'Buildspace': ['Web3 App with Solidity & Ethereum Smart Contracts', 'Web3 App on Solana with React and Rust', 'DAO with Javascript'] \n",
    "}\n",
    "\n",
    "df = pd.DataFrame(courses)\n",
    "df\n"
   ]
  },
  {
   "cell_type": "markdown",
   "metadata": {},
   "source": [
    "---\n",
    "Software\n",
    "\n",
    "\n",
    "## Software I am currently using or have used extensively in the past.\n",
    "| Software  \t| Icon  \t|\n",
    "|:-:\t|---\t|\n",
    "| Visual Studio Code  \t| <img src=\"icons/vscode.png\" alt=\"drawing\" style=\"width:200px;\"/>  \t|\n",
    "| IBM Cloud  \t| <img src=\"icons/ibm.png\" alt=\"drawing\" style=\"width:200px;\"/>  \t|\n",
    "| Juypter Lab  \t| <img src=\"icons/juypter.png\" alt=\"drawing\" style=\"width:200px;\"/>  \t|\n",
    "| JMP Statistical Software  \t| <img src=\"icons/jmp.png\" alt=\"drawing\" style=\"width:200px;\"/>  \t|\n",
    "| TIBCO Spotfire  \t| <img src=\"icons/spotfire.png\" alt=\"drawing\" style=\"width:200px;\"/>  \t|\n",
    "| PowerBI  \t| <img src=\"icons/powerbi.png\" alt=\"drawing\" style=\"width:200px;\"/>  \t|\n",
    "| Integromat  \t| <img src=\"icons/integromat.png\" alt=\"drawing\" style=\"width:200px;\"/>  \t|\n",
    "| Orange Data Mining  \t| <img src=\"icons/orange.png\" alt=\"drawing\" style=\"width:200px;\"/>  \t|\n",
    "| MATLAB  \t| <img src=\"icons/matlab.png\" alt=\"drawing\" style=\"width:200px;\"/>  \t|\n",
    "| Docker  \t| <img src=\"icons/docker.png\" alt=\"drawing\" style=\"width:200px;\"/>  \t|\n",
    "| Kubernetes  \t| <img src=\"icons/kubernetes.png\" alt=\"drawing\" style=\"width:200px;\"/>  \t|\n",
    "| MySQL WorkBench  \t| <img src=\"icons/mysql.png\" alt=\"drawing\" style=\"width:200px;\"/>  \t|\n",
    "| Octave  \t| <img src=\"icons/octave.png\" alt=\"drawing\" style=\"width:200px;\"/>  \t|\n",
    "| Google Cloud  \t| <img src=\"icons/google.png\" alt=\"drawing\" style=\"width:200px;\"/>  \t|\n",
    "\n",
    "---\n"
   ]
  },
  {
   "cell_type": "markdown",
   "metadata": {},
   "source": [
    "---\n",
    "## Projects\n",
    "\n",
    "| Project  \t| Thumbnail  \t| Description  \t| Link  \t|\n",
    "|:-:\t|:-:\t|:-:\t|:-:\t|\n",
    "| space-dash-app  \t| <img src=\"projects/space-dash-app.png\" alt=\"drawing\" style=\"width:200px;\"/>  \t| This app is an interactive dashboard displaying the success rate of Falcon 9 landings. Built with Dash and Plotly Express, deployed on Heroku.  \t| [App Link](https://space-dash-app.herokuapp.com)  \t|\n",
    "| philip  \t| <img src=\"projects/philip.png\" alt=\"drawing\" style=\"width:200px;\"/>  \t| philip, my algorithmic trading bot, will be my way of \"making money as I sleep\" <br> philip will use a chandelier exit & two RSI indicators for a trading strategy,<br> twitter/news NLP sentiment from orange, <br> and websockets and price data from Binance API.<br> Backtesting will be done in [Backtrader](https://github.com/mementum/backtrader) and [Clear - QuantConnect](https://github.com/QuantConnect/Lean)   \t| TBD  \t|\n",
    "| co2-panel-app  \t| <img src=\"projects/co2-panel-app.png\" alt=\"drawing\" style=\"width:200px;\"/>  \t| Created an interactive python dashboard with Hvplots and Panel. Followed this [tutorial](https://www.youtube.com/watch?v=uhxiXOTKzfs&t=26s) \t| [Github Link](https://github.com/Greg-Kojadinovich/python-dashboard-panel)  \t|\n",
    "| solar-system  \t| <img src=\"projects/solar-system.png\" alt=\"drawing\" style=\"width:200px;\"/>  \t| Learning some astrophysics and interacting with JPL API via Astroquery Horizons. <br> I am trying to expand this model to include all the planets and still look nice. <br> Below is my work reviewing the equations. <br> <img src=\"projects/newton.png\" alt=\"drawing\" style=\"width:200px;\"/> <br> I followed this [medium article](https://medium.com/analytics-vidhya/simulating-the-solar-system-with-under-100-lines-of-python-code-5c53b3039fc6) \t| [Github Link](https://github.com/Greg-Kojadinovich/python-solar-system)  \t|\n",
    "| wildfire-tracker  \t| <img src=\"projects/wildfire-tracker.png\" alt=\"drawing\" style=\"width:200px;\"/>  \t| Built a React app to track wildfires using NASA's EONET API & Google Maps API. Followed this [tutorial](https://www.youtube.com/watch?v=ontX4zfVqK8&t=136s)  \t| [Github Link](https://github.com/Greg-Kojadinovich/wildfire-tracker)  \t|\n",
    "| orange-twitter-NLP  \t| <img src=\"projects/orange-NLP.png\" alt=\"drawing\" style=\"width:200px;\"/>  \t| Using Orange to pull 1000+ tweets related to stocks & crypto for Vadar sentiment analysis for philip. <br> <img src=\"projects/orangeworkflow.png\" alt=\"drawing\" style=\"width:200px;\"/>  \t| TBD  \t|\n",
    "| tinyYOLO  \t| <img src=\"projects/deployedml_fastapi.png\" alt=\"drawing\" style=\"width:200px;\"/>  \t| Deployed deep learning Object Detection model [YOLOV3](https://pjreddie.com/darknet/yolo/) using python-conda virtual enviromental and Docker. Sent HTTP Post Requests of ML model to FastAPI framework.   \t| [Github Link](https://github.com/Greg-Kojadinovich/machine-learning-engineering-for-production-public/tree/main/course1/week1-ungraded-lab)  \t|\n",
    "\n",
    "---"
   ]
  }
 ],
 "metadata": {
  "interpreter": {
   "hash": "f5fedb9e3846c00c8111903742c3dadfc484eb50b61efc6a7a082561e6e843b4"
  },
  "kernelspec": {
   "display_name": "Python 3.8.2 ('base')",
   "language": "python",
   "name": "python3"
  },
  "language_info": {
   "codemirror_mode": {
    "name": "ipython",
    "version": 3
   },
   "file_extension": ".py",
   "mimetype": "text/x-python",
   "name": "python",
   "nbconvert_exporter": "python",
   "pygments_lexer": "ipython3",
   "version": "3.8.2"
  },
  "orig_nbformat": 4
 },
 "nbformat": 4,
 "nbformat_minor": 2
}
